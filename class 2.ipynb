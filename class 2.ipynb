{
 "cells": [
  {
   "cell_type": "code",
   "execution_count": 7,
   "id": "7da7dbd4-d0cd-4e53-8860-5bbf78a9d83e",
   "metadata": {},
   "outputs": [],
   "source": [
    "# simplified implimintation of Stack (using built-in)\n",
    "\n",
    "class Stack:\n",
    "    def __init__(self):\n",
    "        self.items = []\n",
    "\n",
    "    def push(self, value):\n",
    "        self.items.append(value)\n",
    "\n",
    "    def pop(self):\n",
    "        return self.items.pop()\n",
    "\n",
    "    #nice to hav methods\n",
    "    def size(self):\n",
    "        return len(self.items)\n",
    "\n",
    "    def peeek(self):\n",
    "        return self.items[len(self.items)-1]\n",
    "\n",
    "    def is_empty(self):\n",
    "        return self.items == []\n",
    "        "
   ]
  },
  {
   "cell_type": "code",
   "execution_count": 8,
   "id": "f801a9dd-fc14-48d5-a69c-48462f674370",
   "metadata": {},
   "outputs": [
    {
     "data": {
      "text/plain": [
       "'imaR'"
      ]
     },
     "execution_count": 8,
     "metadata": {},
     "output_type": "execute_result"
    }
   ],
   "source": [
    "def invert_str(somestring):\n",
    "    stack = Stack()\n",
    "    for char in somestring:\n",
    "        stack.push(char)\n",
    "    out =\"\"\n",
    "    while not stack.is_empty():\n",
    "        out += stack.pop()\n",
    "    return out\n",
    "\n",
    "invert_str(\"Rami\")\n"
   ]
  },
  {
   "cell_type": "code",
   "execution_count": 13,
   "id": "0af8893e-23ac-4032-ab74-27e8f465a165",
   "metadata": {},
   "outputs": [
    {
     "name": "stdout",
     "output_type": "stream",
     "text": [
      "140275381649776\n",
      "140275381649808\n"
     ]
    }
   ],
   "source": [
    "# in python the primary data types are:\n",
    "#int, bool, float\n",
    "x =5 \n",
    "y =x\n",
    "x+=1\n",
    "print(id(y))\n",
    "print(id(x))\n"
   ]
  },
  {
   "cell_type": "code",
   "execution_count": 14,
   "id": "490a819c-9f94-449d-9b33-f5450160bc92",
   "metadata": {},
   "outputs": [
    {
     "name": "stdout",
     "output_type": "stream",
     "text": [
      "[1, 2, 3, 4]\n",
      "140275178900416\n",
      "140275178900416\n"
     ]
    }
   ],
   "source": [
    "#other data types and structures pass by refrence\n",
    "x=[1,2,3]\n",
    "y=x\n",
    "y.append(4)\n",
    "\n",
    "print(x)\n",
    "print(id(y))\n",
    "print(id(x))\n"
   ]
  },
  {
   "cell_type": "code",
   "execution_count": null,
   "id": "04743877-6d00-4a84-9343-5b8ca1b67d22",
   "metadata": {},
   "outputs": [],
   "source": [
    "class StackII:\n",
    "    class __Node:\n",
    "        def __init__(self, data):\n",
    "            self.data = data\n",
    "            self.below = None\n",
    "\n",
    "    def __init__(self):\n",
    "        self.top=None\n",
    "        self.size = 0\n",
    "\n",
    "    def push(self, value):\n",
    "        #check if the self.top is None if so the value becomes the top\n",
    "       new_node = self.__Node.(value)\n",
    "        if not self.top:\n",
    "           self.top = new_node\n",
    "        #if the top is not None then create a node where self.below = top & self.top = value\n",
    "        else: \n",
    "            new_node.below = self.top\n",
    "            self.top = new_node\n",
    "      \n",
    "        \n",
    "        \n",
    "\n",
    "    def pop(self):\n",
    "        #if the self.top is None then return error msg or False\n",
    "        if self.top:\n",
    "            datum = self.top.data\n",
    "            self.top = self.top.below\n",
    "            \n",
    "            return datum\n",
    "        raise IndexError(\"stack is empty\")\n",
    "            \n",
    "      \n",
    "\n",
    "    #nice to have methods\n",
    "    def size(self):\n",
    "        current = self.top\n",
    "        count = 0\n",
    "        if self.top:\n",
    "            while current:\n",
    "                current = current.below\n",
    "                count +=1\n",
    "        return count\n",
    "        \n",
    "\n",
    "    def peek(self):\n",
    "        return self.top.data\n",
    "        \n",
    "       \n",
    "    def is_empty(self):\n",
    "        return self.top is None\n",
    "    "
   ]
  }
 ],
 "metadata": {
  "kernelspec": {
   "display_name": "Python 3 (ipykernel)",
   "language": "python",
   "name": "python3"
  },
  "language_info": {
   "codemirror_mode": {
    "name": "ipython",
    "version": 3
   },
   "file_extension": ".py",
   "mimetype": "text/x-python",
   "name": "python",
   "nbconvert_exporter": "python",
   "pygments_lexer": "ipython3",
   "version": "3.10.12"
  }
 },
 "nbformat": 4,
 "nbformat_minor": 5
}
