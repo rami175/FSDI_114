{
 "cells": [
  {
   "cell_type": "markdown",
   "id": "d7b4175f-0c73-4c74-af24-bd258eec8f39",
   "metadata": {},
   "source": [
    "for char in \"hello, world\":\n",
    "    print(char)\n",
    "    "
   ]
  },
  {
   "cell_type": "markdown",
   "id": "c9b785eb-00c7-4a9f-aa55-bde0b9def7c8",
   "metadata": {},
   "source": [
    "# Problem 1\n",
    "## Anagram check\n",
    "Given two strings as inputs to your function, determine if these are anagrams of each other. Return \"True' if they are, \"False' otherwise.\n",
    "\n",
    "##Cretiria\n",
    "Two strings are anagrams if all the creiteria below are met:\n",
    "1. They must be of equall length (number of letters).\n",
    "2. 2. They must use the same letters, the same amount of times.\n",
    "  \n",
    "```\n",
    "Examples:\n",
    "anagram_check(\"heart\", \"earth\") should return True\n",
    "anagram_check(\"scar\", \"cars\") should return True\n",
    "anagram_check(\"star\", \"rats\") should return True\n",
    "anagram_check(\"aasb\", \"aabb\") should return False\n",
    "```\n",
    "\n"
   ]
  },
  {
   "cell_type": "code",
   "execution_count": null,
   "id": "0fe66148-f3dd-4e25-89bb-8519e6cc0bfa",
   "metadata": {},
   "outputs": [],
   "source": [
    "##\n",
    "def anagram_check(x,y)\n",
    "#stripping white spaces and conveert to lower cases\n",
    "x1 = to_lower.strip(x)\n",
    "y1 = to_lower.strip(y)\n",
    "#comparing length\n",
    "if x1.length = y1.length\n",
    "    x2={}\n",
    "    y2={}\n",
    "    #iterate through the new dictionaries\n",
    "    for l in x1:\n",
    "        if l in x2:\n",
    "            x2.get(l)+=1\n",
    "        else:\n",
    "            x2.append(l)\n",
    "    for l in y1:\n",
    "        if l in y2:\n",
    "            y2.get(l)+=1\n",
    "        else:\n",
    "            y2.append(l)\n",
    "    #comparing the two dictionaries        \n",
    "    if x2==y2 return True\n",
    "\n",
    "    else return False\n",
    "        "
   ]
  }
 ],
 "metadata": {
  "kernelspec": {
   "display_name": "Python 3 (ipykernel)",
   "language": "python",
   "name": "python3"
  },
  "language_info": {
   "codemirror_mode": {
    "name": "ipython",
    "version": 3
   },
   "file_extension": ".py",
   "mimetype": "text/x-python",
   "name": "python",
   "nbconvert_exporter": "python",
   "pygments_lexer": "ipython3",
   "version": "3.10.12"
  }
 },
 "nbformat": 4,
 "nbformat_minor": 5
}
